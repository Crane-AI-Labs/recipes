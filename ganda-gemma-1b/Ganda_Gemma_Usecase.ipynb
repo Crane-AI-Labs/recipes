{
 "cells": [
  {
   "cell_type": "markdown",
   "metadata": {
    "id": "CprAi1X__k1q"
   },
   "source": [
    "# Unlock the Power of Luganda with Ganda Gemma 1B!\n",
    "\n",
    "Dive into the world of Luganda artificial intelligence with this comprehensive guide to using `CraneAILabs/ganda-gemma-1b`. As a fine-tuned version of Google's Gemma 3 1B model, Ganda Gemma is specially designed for English-to-Luganda translation and conversational AI. This notebook will walk you through everything you need to know, from the model's capabilities to hands-on-code examples.\n",
    "\n",
    "### **Model at a Glance**\n",
    "\n",
    "*   **Model Name:** `CraneAILabs/ganda-gemma-1b`\n",
    "*   **Base Model:** `google/gemma-3-1b-it`\n",
    "*   **Parameters:** 1 Billion\n",
    "*   **Input Languages:** English and Luganda\n",
    "*   **Output Language:** Luganda\n",
    "*   **Primary Focus:** English-to-Luganda translation and Luganda conversational AI\n",
    "\n",
    "### **Capabilities: What Can Ganda Gemma 1B Do?**\n",
    "\n",
    "This powerful model is equipped with a range of capabilities to serve various linguistic needs:\n",
    "\n",
    "*   **English-to-Luganda Translation:** Seamlessly translate text from English to Luganda.\n",
    "*   **Conversational AI:** Engage in natural, human-like conversations in Luganda.\n",
    "*   **Text Summarization:** Condense longer Luganda texts into concise summaries.\n",
    "*   **Creative and Informational Writing:** Generate a variety of written content in Luganda.\n",
    "*   **Question Answering:** Provide answers to general knowledge questions in Luganda.\n",
    "\n",
    "### **Performance that Speaks for Itself**\n",
    "\n",
    "Ganda Gemma 1B has been rigorously evaluated, demonstrating impressive performance in translation quality. Here's a look at how it stacks up against other models based on BLEU and chrF++ scores, evaluated on 1,012 translation samples:\n",
    "\n",
    "| Model | BLEU Score | chrF++ |\n",
    "| :--- | :--- | :--- |\n",
    "| **Ganda Gemma 1B** | **6.98** | **40.63** |\n",
    "| ChatGPT-4o-latest | 6.46 | 39.98 |\n",
    "| Llama-4-Maverick | 4.29 | 33.52 |\n",
    "| Llama-4-Scout | 3.28 | 27.33 |\n",
    "\n",
    "---\n"
   ]
  },
  {
   "cell_type": "markdown",
   "metadata": {
    "id": "6iyNh4BU_82i"
   },
   "source": [
    "\n",
    "## Let's Get Coding!\n",
    "\n",
    "### **Setup: Installing the Essentials**\n",
    "\n",
    "First, let's make sure you have the necessary libraries installed. We'll need `transformers` for interacting with the model and `torch` for the underlying computations.\n"
   ]
  },
  {
   "cell_type": "code",
   "execution_count": null,
   "metadata": {
    "colab": {
     "base_uri": "https://localhost:8080/"
    },
    "id": "BmIpEmkUAAJY",
    "outputId": "b4af2484-a161-4149-b986-a4f287ace201"
   },
   "outputs": [],
   "source": [
    "!pip install transformers\n",
    "!pip install torch"
   ]
  },
  {
   "cell_type": "markdown",
   "metadata": {
    "id": "2B45fDysAEm9"
   },
   "source": [
    "### **Use Case 1: English-to-Luganda Translation**\n",
    "\n",
    "Translating from English to Luganda is a core feature of Ganda Gemma 1B. Here’s how you can do it:\n"
   ]
  },
  {
   "cell_type": "code",
   "execution_count": null,
   "metadata": {
    "colab": {
     "base_uri": "https://localhost:8080/",
     "height": 17,
     "referenced_widgets": [
      "802fd0c8da6c45498340db6350f125e2",
      "565a881020e2494d82dd3db67e706b21",
      "7a2e9d89c1154e4ab97a6a00bbdafea3",
      "a9ebe5df55e840618027ac8145c6a39c",
      "91e49383616e45c197d8707008e2b64d",
      "ef1ccdf473f54d87a773fb207e30fd26",
      "5acec1208387461597ebd7d6d5bd853b",
      "34741b878c3f4fde9b1a6be66a4169b7",
      "7b5832ad3fe94aee89166b8a8a0ad392",
      "7480f25e4cc344c69b3c9cc0b6c325ac",
      "bc9f9eda8ab64310a8a36079e9a46182",
      "fd26cea3439d42c29b3d63e94a66944d",
      "337a38a46a4b450699012ccb14a6c559",
      "596dd1f64da247b3847358a6e0c30fed",
      "dfab16d4889244b5b47288ec23b48c48",
      "9ce5aedb4235437cb26fa554f076ee01",
      "0c26e8c15c19409aa1fa696c05da152f",
      "ec19b681d5ed44e5904c389bf243927f",
      "abd63eb87ab44a2c9a5565b623535204",
      "31a07a5767b2467cb53653dba70eb69f"
     ]
    },
    "id": "5TjxuDKAF8F4",
    "outputId": "1a04af76-97f7-437a-e6a8-112347441f41"
   },
   "outputs": [],
   "source": [
    "from huggingface_hub import notebook_login\n",
    "notebook_login()"
   ]
  },
  {
   "cell_type": "code",
   "execution_count": null,
   "metadata": {
    "colab": {
     "base_uri": "https://localhost:8080/",
     "height": 305,
     "referenced_widgets": [
      "2ba13a04d7754ab1a34756fccfb172a8",
      "cda267d7486b433bb0c6241dcddb7717",
      "c2f18784afad448eb8242932381a4b75",
      "8eccf1029b434550a8db094dbbe5578f",
      "6970450e5d6043b2bf4df5170b84fd5d",
      "9b2a806fdbf74e55adcecf91e77921bd",
      "d93609383b1d49d9b47b3787c39e18f6",
      "59f0a95fa3d140b4a8f3c6daf288c752",
      "5b990f1cdc2646ecb44e06d1d5b3d876",
      "0c153c2dff3e406e95bc82e199d81be8",
      "b4a68b0cb60d4b84bcd8718d68f134d4",
      "e7b1507514fe42f8a8a38fe4165c61a5",
      "c94ed075a5f84445b764ac061d808b80",
      "d02420501fb147f698c3e97c39d489c1",
      "0527003574e24796951c7256cdb4f07c",
      "607900fd706c470180123b84f9b39c10",
      "fa2073c5aba44d9ea06bd4fb36b543c7",
      "91ee111a87124dfaac22c0a4efa0d85f",
      "a07df7fbc42d4e658ae2d8d37f5c1da1",
      "b0946d2ba8124f61bdb29cee3742216c",
      "2cffc898d8d04016b07423b88cc17f8b",
      "3b6fcc7e42f74d1d8d97248176afd56e",
      "520f5b020898412eab712e49307d2a49",
      "da7484f7edb24d5798d7dcd07c91b741",
      "f60e2a4e24e2461ca8a9e8b6b0053d66",
      "15acdd195b7c4d0990260b350288f7bf",
      "dc81feb28edd4d5f9a9efd937c85eed9",
      "49e7e10947b4405b8a334a294b335540",
      "891aef36c1d74417a8bdc444ba87687e",
      "f5dba0d8d65a4071ab7fb9142f637d68",
      "cd3cba0c74024146a2960b1b0f2ca98e",
      "7825732c9a1d492f9c295a7ee186bc6a",
      "09f96ad1da95469a8dc285468e700408",
      "31892331f98f449c8b753a5da0f82ae7",
      "be10e2ee089040dd96b1214eea83bb35",
      "9b61957fbd4042bfb96d854b2fa983e7",
      "b939fa61436c4a408d9cb7f043b6dee5",
      "28f7500806d040ad98f3fc27ab70d1a1",
      "f59effa3ef374b5f8ebf856b27247f1e",
      "9558b885b07e499582808a2e233aa5b5",
      "b0c5727fcb234f459758b2187fdcdff3",
      "733e5691ce5d4071a5b37702a48da55b",
      "f2b885867b2c4ec5850ad29251732a28",
      "b174e5874e67411eadb0eaf6b1c7ad13",
      "51a200993e3e49f8870d1e48cb3fb248",
      "32bfbef22661462fb1d623b9ba854295",
      "717b2b4521ce4fd49aee123c1295d822",
      "10fcf37ee118470595df61dc84cfd060",
      "5691500ae15b406589f88ca287a841cd",
      "a556de63d54d43aa8a7ee15c1cdf4f18",
      "e7f4b759e0864d6abf1aae45c4cb0911",
      "5c2fa719f0584938bbcc1f1859d4d337",
      "30ad2d010927473b9dbe02aba75c6710",
      "420d1de1e1fc4b31a930d0c64f1a4e21",
      "d087865f57844e4a8f7e24746cbbe8a3",
      "f6cf301f9ed4445e9a6a665cf421f6d5",
      "5285001c6c8b470faadcc8daaff2bd76",
      "7a8b75e29b4c4053b78e7b784cc53726",
      "081e7f0155ed4ec59089080a95167900",
      "193539a88f92448099071eab8995ddc5",
      "3ae198a939aa487b8f5aa11d717d9897",
      "59dcdcddf70d4e51a0a8137e533f96a4",
      "ec2a099659b14e24a6733f83ad1c2100",
      "4117a148360945e6bf9bcd4c3e16a5dd",
      "3979ef262cf443f6a4719fcee3c08291",
      "8afa03d4f42942c8a82d5845b2072f5b",
      "02d6eab6cc174cbda7a9c3ca8e80f075",
      "7e601fc63812403699e15d83360079bf",
      "8d33bd95cc1a4a018299bfe6bfb61251",
      "b9d2eefb3685485ca4e753c3aca5ea16",
      "d99d76514124438ba0cee27eed79143e",
      "f2ebf35babaa4f0f8de381ddc1c7baa8",
      "e2ac00460eb2491ab06646aaa4b49cf6",
      "c4da5a36a85a48e4af201b12dec617c9",
      "71efe8e6bf8f498faf29b1a4bf8576c8",
      "df7fcf8d6f8f499a86a72034828d79c4",
      "96c32df9417145abb9cd752fc14ae314",
      "9ef9bc3d17064c2ab2a1a0771ee7853a",
      "8edb8fd8d9714d629226cdef7cb06296",
      "7f9471fda3dc4591bf9c70cee551c72c",
      "e712fb60123246e8a26df301006c3001",
      "0b8f488135024600847a1508e2ece33c",
      "62b3dccab75e48dd9e05ecd11023c50b",
      "de70b77239014b4db2e4f5a1814bb8c8",
      "29302ffe8b9e4a6688e76f08800ef35d",
      "d9d8e50271d442a89ba9ff1a94f9dbc7",
      "e80096fb4896422cb9683685a94511dc",
      "61aeb058225e414d98adf29157a60eb6",
      "ceea483cc62b4c01b072fa757f98f6e5",
      "1b192670548748d9a99955b9756ee974",
      "5b6c481705f24c3db200e730b7d1ac3d",
      "07e27a772d8f472a962bc42c321ccca8",
      "ad517ff1e32b4d24a46acf34bd92853e",
      "74ffd85da4f14476bf7128ab08fcb459",
      "26384b57f2ae44f0800ad16c162c3645",
      "b766b702df1143cb85b3b8a8bf40fc1b",
      "0219eea52c604d8ab6c7087d12f7ba19",
      "55535a5c24684588808c1a5bef33cd37",
      "4ef50edaeb994e129faf09c300f9df5b"
     ]
    },
    "id": "8H6fkdvqALP2",
    "outputId": "b8e209a2-d3d5-4b7f-c886-daae0c0ababb"
   },
   "outputs": [],
   "source": [
    "import torch\n",
    "from transformers import AutoModelForCausalLM, AutoTokenizer\n",
    "\n",
    "# Load the model and tokenizer\n",
    "model_name = \"CraneAILabs/ganda-gemma-1b\"\n",
    "model = AutoModelForCausalLM.from_pretrained(model_name)\n",
    "tokenizer = AutoTokenizer.from_pretrained(model_name)"
   ]
  },
  {
   "cell_type": "code",
   "execution_count": null,
   "metadata": {
    "colab": {
     "base_uri": "https://localhost:8080/"
    },
    "id": "8pBaA8QoAPuM",
    "outputId": "73675412-2382-48c9-bce4-f3d8327110b4"
   },
   "outputs": [],
   "source": [
    "# Create the chat-formatted prompt\n",
    "messages = [\n",
    "    {\"role\": \"user\", \"content\": \"Translate to Luganda: Good morning, how did you sleep?\"}\n",
    "]\n",
    "prompt = tokenizer.apply_chat_template(messages, tokenize=False, add_generation_prompt=True)\n",
    "inputs = tokenizer(prompt, return_tensors=\"pt\")\n",
    "\n",
    "# Generate new tokens\n",
    "with torch.no_grad():\n",
    "    outputs = model.generate(\n",
    "        inputs[\"input_ids\"],\n",
    "        max_new_tokens=128,\n",
    "        temperature=0.3,\n",
    "        top_p=0.95,\n",
    "        top_k=64,\n",
    "        repetition_penalty=1.1,\n",
    "        do_sample=True,\n",
    "        pad_token_id=tokenizer.eos_token_id\n",
    "    )\n",
    "\n",
    "# The generated output will now contain both the formatted prompt and the answer.\n",
    "# We still need to decode and then extract just the model's response.\n",
    "full_response = tokenizer.decode(outputs[0], skip_special_tokens=True)\n",
    "\n",
    "# Extract only the model's part of the response\n",
    "# Gemma's response starts after '<start_of_turn>model\\n'\n",
    "model_response = full_response.split('<start_of_turn>model\\n')[-1]\n",
    "\n",
    "print(f\"Model's Response: {model_response}\")"
   ]
  },
  {
   "cell_type": "code",
   "execution_count": null,
   "metadata": {
    "colab": {
     "base_uri": "https://localhost:8080/"
    },
    "id": "TauAgJrZAYJS",
    "outputId": "056dd338-fa6c-4a9d-963b-a8881a247d17"
   },
   "outputs": [],
   "source": [
    "from transformers import pipeline, AutoTokenizer\n",
    "import torch\n",
    "\n",
    "model_name = \"CraneAILabs/ganda-gemma-1b\"\n",
    "\n",
    "# Load the tokenizer separately to build the prompt\n",
    "tokenizer = AutoTokenizer.from_pretrained(model_name)\n",
    "\n",
    "# --- Most Robust Pipeline for CPU ---\n",
    "generator = pipeline(\n",
    "    \"text-generation\",\n",
    "    model=model_name,\n",
    "    tokenizer=tokenizer,\n",
    "    torch_dtype=\"auto\",\n",
    "    device=-1\n",
    ")\n",
    "\n",
    "# 1. Apply the chat template just like before\n",
    "messages = [\n",
    "    {\"role\": \"user\", \"content\": \"Translate to Luganda: Welcome to our school\"}\n",
    "]\n",
    "prompt_from_template = tokenizer.apply_chat_template(\n",
    "    messages,\n",
    "    tokenize=False,\n",
    "    add_generation_prompt=True\n",
    ")\n",
    "\n",
    "# 2. Pass the formatted prompt to the generator\n",
    "result = generator(\n",
    "    prompt_from_template,\n",
    "    max_new_tokens=100,\n",
    "    temperature=0.3,\n",
    "    do_sample=True,\n",
    "    return_full_text=False\n",
    ")\n",
    "\n",
    "print(\"\\n--- Pipeline Translation ---\")\n",
    "print(f\"Generated Text: '{result[0]['generated_text']}'\")"
   ]
  },
  {
   "cell_type": "markdown",
   "metadata": {
    "id": "eWHIpfeTAdWj"
   },
   "source": [
    "### **Use Case 2: Luganda Conversational AI**\n",
    "\n",
    "Engage directly with the model in Luganda for a conversational experience.\n"
   ]
  },
  {
   "cell_type": "code",
   "execution_count": null,
   "metadata": {
    "colab": {
     "base_uri": "https://localhost:8080/"
    },
    "id": "iqxegRJUAoRs",
    "outputId": "734876d2-9ba5-4ec9-cacb-66f15b667b5c"
   },
   "outputs": [],
   "source": [
    "# --- Direct Luganda Conversation ---\n",
    "prompt = \"Mwasuze mutya! Nnyinza ntya okukuyamba leero?\" # (Good morning! How can I help you today?)\n",
    "inputs = tokenizer(prompt, return_tensors=\"pt\")\n",
    "\n",
    "outputs = model.generate(**inputs, max_length=100, temperature=0.3)\n",
    "response = tokenizer.decode(outputs[0], skip_special_tokens=True)\n",
    "\n",
    "print(f\"User Prompt: {prompt}\")\n",
    "print(f\"Ganda Gemma's Response: {response}\")\n"
   ]
  },
  {
   "cell_type": "code",
   "execution_count": null,
   "metadata": {
    "colab": {
     "base_uri": "https://localhost:8080/"
    },
    "id": "fUCzTC4jTvC7",
    "outputId": "0526dc92-479b-4be3-d17d-1572f361ee29"
   },
   "outputs": [],
   "source": [
    "from transformers import pipeline, AutoTokenizer\n",
    "import torch\n",
    "\n",
    "# Define the model name\n",
    "model_name = \"CraneAILabs/ganda-gemma-1b\"\n",
    "\n",
    "# Load the tokenizer separately. This is crucial for using the chat template.\n",
    "tokenizer = AutoTokenizer.from_pretrained(model_name)\n",
    "\n",
    "# Create the text-generation pipeline with CPU optimizations\n",
    "# torch_dtype=\"auto\" helps torch select the right data type for your hardware (e.g., float32 for CPU)\n",
    "chat_pipeline = pipeline(\n",
    "    \"text-generation\",\n",
    "    model=model_name,\n",
    "    tokenizer=tokenizer,\n",
    "    torch_dtype=\"auto\",\n",
    "    device=-1  # Use -1 to explicitly set to CPU\n",
    ")\n",
    "\n",
    "print(\"Chat pipeline is ready. You can now start the conversation.\")"
   ]
  },
  {
   "cell_type": "code",
   "execution_count": null,
   "metadata": {
    "colab": {
     "base_uri": "https://localhost:8080/"
    },
    "id": "MPtcIJqjTy99",
    "outputId": "4058d225-aabf-4d6c-8bdc-160c0559e40d"
   },
   "outputs": [],
   "source": [
    "print(\"--- Ganda Gemma Interactive Chat ---\")\n",
    "print(\"Model is ready. Type your message or a translation request.\")\n",
    "print(\"Type 'quit' or 'exit' to end the chat.\\n\")\n",
    "\n",
    "while True:\n",
    "    # 1. Get input from the user\n",
    "    user_input = input(\"You: \")\n",
    "\n",
    "    # 2. Check for an exit command\n",
    "    if user_input.lower() in [\"quit\", \"exit\"]:\n",
    "        print(\"Goodbye! The chat session has ended.\")\n",
    "        break\n",
    "\n",
    "    # 3. Format the input using the model's official chat template\n",
    "    # This is the most reliable way to get good responses from Gemma models.\n",
    "    messages = [\n",
    "        {\"role\": \"user\", \"content\": user_input}\n",
    "    ]\n",
    "    prompt = chat_pipeline.tokenizer.apply_chat_template(\n",
    "        messages,\n",
    "        tokenize=False,\n",
    "        add_generation_prompt=True\n",
    "    )\n",
    "\n",
    "    # 4. Generate a response using the pipeline\n",
    "    # We use 'max_new_tokens' and 'return_full_text=False' to get a clean response.\n",
    "    response = chat_pipeline(\n",
    "        prompt,\n",
    "        max_new_tokens=150,\n",
    "        do_sample=True,\n",
    "        temperature=0.7, # A slightly higher temperature can make chat more interesting\n",
    "        top_k=50,\n",
    "        top_p=0.95,\n",
    "        return_full_text=False\n",
    "    )\n",
    "\n",
    "    # 5. Print the model's generated response\n",
    "    print(f\"Ganda Gemma: {response[0]['generated_text'].strip()}\")\n",
    "    print(\"-\" * 20) # Separator for clarity"
   ]
  },
  {
   "cell_type": "markdown",
   "metadata": {
    "id": "W83Bf8cI9DQP"
   },
   "source": [
    "***\n",
    "\n",
    "### **Use Case 4: Text Summarization in Luganda**\n",
    "\n",
    "Beyond translation, Ganda Gemma can understand and process Luganda text to extract the most important information. This is incredibly useful for condensing long articles, reports, or paragraphs into a short, easy-to-read summary.\n",
    "\n",
    "We'll use prompt engineering to instruct the model to act as a summarizer.\n"
   ]
  },
  {
   "cell_type": "code",
   "execution_count": null,
   "metadata": {
    "colab": {
     "base_uri": "https://localhost:8080/"
    },
    "id": "GKgXzFPK9VId",
    "outputId": "33edafec-2029-4a4e-b6f6-ea9afb0a619f"
   },
   "outputs": [],
   "source": [
    "# --- The Text to Summarize ---\n",
    "long_luganda_text = \"\"\"\n",
    "Ebyenjigiriza bya muwendo nnyo mu bulamu bwa buli muntu ne mu nkulaakulana y'eggwanga. Biyamba abantu okufuna amagezi, obukugu, n'empisa ennungi ebiyamba okweyimirizaawo. Okuva ku baana abato okutuuka ku bantu abakulu, okusoma kubayamba okumanya ebigenda mu maaso mu nsi, okutegeera eddembe lyabwe, n'okuba ab'omugaso mu kitundu. Eggwanga eririna abantu abasomye bulungi lisobola okukulaakulana mangu mu by'enfuna, eby'obufuzi, n'embeera z'abantu.\n",
    "\"\"\"\n",
    "\n",
    "# --- The Instruction (Prompt) ---\n",
    "# We tell the model exactly what to do with the text.\n",
    "instruction = f\"Summarize the following Luganda text into one concise sentence: \\n\\n{long_luganda_text}\"\n",
    "\n",
    "# Format using the chat template for best results\n",
    "messages = [{\"role\": \"user\", \"content\": instruction}]\n",
    "prompt = chat_pipeline.tokenizer.apply_chat_template(\n",
    "    messages, tokenize=False, add_generation_prompt=True\n",
    ")\n",
    "\n",
    "# Generate the summary\n",
    "# We use a low temperature for fact-based, non-creative output.\n",
    "summary_result = chat_pipeline(\n",
    "    prompt,\n",
    "    max_new_tokens=100,\n",
    "    do_sample=True,\n",
    "    temperature=0.2, # Low temperature for factual summary\n",
    "    return_full_text=False\n",
    ")\n",
    "\n",
    "print(\"--- Luganda Text Summarization ---\")\n",
    "print(f\"Original Text:\\n{long_luganda_text.strip()}\")\n",
    "print(\"\\n\" + \"=\"*25 + \"\\n\")\n",
    "print(f\"Generated Summary:\\n{summary_result[0]['generated_text'].strip()}\")"
   ]
  },
  {
   "cell_type": "markdown",
   "metadata": {
    "id": "1aGy4zTt9bOC"
   },
   "source": [
    "\n",
    "### **Use Case 5: Creative and Informational Writing**\n",
    "\n",
    "Need to write a short story, a poem, or an informational paragraph in Luganda? Ganda Gemma can be your creative partner. By providing a topic or a starting sentence, you can generate a variety of written content.\n",
    "\n",
    "For creative tasks, we'll increase the `temperature` parameter slightly to encourage the model to generate more diverse and interesting text.\n"
   ]
  },
  {
   "cell_type": "code",
   "execution_count": null,
   "metadata": {
    "colab": {
     "base_uri": "https://localhost:8080/"
    },
    "id": "vW3ttCpn9sO2",
    "outputId": "877c9222-face-4a11-9d18-0af3f6778741"
   },
   "outputs": [],
   "source": [
    "# --- Creative Writing: A Short Story ---\n",
    "story_idea = \"Write a short story in Luganda about a clever rabbit (akamyu) and a friendly elephant (enjovu).\"\n",
    "\n",
    "messages_story = [{\"role\": \"user\", \"content\": story_idea}]\n",
    "prompt_story = chat_pipeline.tokenizer.apply_chat_template(\n",
    "    messages_story, tokenize=False, add_generation_prompt=True\n",
    ")\n",
    "\n",
    "# Use a higher temperature for more creative and unpredictable results\n",
    "creative_result = chat_pipeline(\n",
    "    prompt_story,\n",
    "    max_new_tokens=250, # Allow for a longer story\n",
    "    do_sample=True,\n",
    "    temperature=0.8, # Higher temperature for creativity\n",
    "    top_p=0.95,\n",
    "    return_full_text=False\n",
    ")\n",
    "\n",
    "print(\"--- Creative Writing Example ---\")\n",
    "print(f\"Prompt: {story_idea}\")\n",
    "print(\"\\n\" + \"=\"*25 + \"\\n\")\n",
    "print(f\"Generated Story:\\n{creative_result[0]['generated_text'].strip()}\")"
   ]
  },
  {
   "cell_type": "code",
   "execution_count": null,
   "metadata": {
    "colab": {
     "base_uri": "https://localhost:8080/"
    },
    "id": "_pDJuwJUCw70",
    "outputId": "4e758903-92ba-48de-e27b-4a769e740089"
   },
   "outputs": [],
   "source": [
    "# --- Informational Writing: Factual Content ---\n",
    "info_idea = \"Write a short paragraph in Luganda explaining the importance of boiling drinking water.\"\n",
    "\n",
    "messages_info = [{\"role\": \"user\", \"content\": info_idea}]\n",
    "prompt_info = chat_pipeline.tokenizer.apply_chat_template(\n",
    "    messages_info, tokenize=False, add_generation_prompt=True\n",
    ")\n",
    "\n",
    "# Use a lower temperature for factual, informational text\n",
    "info_result = chat_pipeline(\n",
    "    prompt_info,\n",
    "    max_new_tokens=200,\n",
    "    do_sample=True,\n",
    "    temperature=0.3, # Lower temperature for factual content\n",
    "    return_full_text=False\n",
    ")\n",
    "\n",
    "print(\"\\n\\n--- Informational Writing Example ---\")\n",
    "print(f\"Prompt: {info_idea}\")\n",
    "print(\"\\n\" + \"=\"*25 + \"\\n\")\n",
    "print(f\"Generated Paragraph:\\n{info_result[0]['generated_text'].strip()}\")"
   ]
  },
  {
   "cell_type": "markdown",
   "metadata": {
    "id": "O34ijpvw9zLr"
   },
   "source": [
    "### **Use Case 6: General Knowledge Question Answering**\n",
    "\n",
    "You can ask Ganda Gemma general knowledge questions directly in Luganda. The model will tap into the vast information it learned during its pre-training to provide an answer.\n",
    "\n",
    "This is another form of zero-shot learning. For the best factual recall, it's important to keep the `temperature` low to prevent the model from making things up (hallucinating).\n"
   ]
  },
  {
   "cell_type": "code",
   "execution_count": null,
   "metadata": {
    "colab": {
     "base_uri": "https://localhost:8080/"
    },
    "id": "-NCF8qiS96bm",
    "outputId": "249e9060-8320-4110-8e28-8da3378ec0ea"
   },
   "outputs": [],
   "source": [
    "# --- Ask a Question in Luganda ---\n",
    "question = \"Kibuga ki ekikulu ekya Uganda?\" # \"What is the capital city of Uganda?\"\n",
    "\n",
    "# Format the question using the chat template.\n",
    "messages_qa = [{\"role\": \"user\", \"content\": question}]\n",
    "prompt_qa = chat_pipeline.tokenizer.apply_chat_template(\n",
    "    messages_qa, tokenize=False, add_generation_prompt=True\n",
    ")\n",
    "\n",
    "# Generate the answer with a low temperature for accuracy.\n",
    "answer_result = chat_pipeline(\n",
    "    prompt_qa,\n",
    "    max_new_tokens=50,\n",
    "    do_sample=True,\n",
    "    temperature=0.1, # Very low temperature for factual answers\n",
    "    return_full_text=False\n",
    ")\n",
    "\n",
    "print(\"--- Question Answering Example ---\")\n",
    "print(f\"Question: {question}\")\n",
    "print(\"\\n\" + \"=\"*25 + \"\\n\")\n",
    "print(f\"Generated Answer: {answer_result[0]['generated_text'].strip()}\")\n"
   ]
  },
  {
   "cell_type": "code",
   "execution_count": null,
   "metadata": {
    "colab": {
     "base_uri": "https://localhost:8080/"
    },
    "id": "sV87IcGg82jA",
    "outputId": "ba4eca00-82f7-4cba-d045-ba4b2820c394"
   },
   "outputs": [],
   "source": [
    "# --- Another Example ---\n",
    "question_2 = \"Lwaki ebirime byetaaga amazzi okukula?\" # \"Why do crops need water to grow?\"\n",
    "\n",
    "messages_qa_2 = [{\"role\": \"user\", \"content\": question_2}]\n",
    "prompt_qa_2 = chat_pipeline.tokenizer.apply_chat_template(\n",
    "    messages_qa_2, tokenize=False, add_generation_prompt=True\n",
    ")\n",
    "\n",
    "answer_result_2 = chat_pipeline(\n",
    "    prompt_qa_2,\n",
    "    max_new_tokens=150,\n",
    "    do_sample=True,\n",
    "    temperature=0.2,\n",
    "    return_full_text=False\n",
    ")\n",
    "\n",
    "print(\"\\n\\n--- Another Question Answering Example ---\")\n",
    "print(f\"Question: {question_2}\")\n",
    "print(\"\\n\" + \"=\"*25 + \"\\n\")\n",
    "print(f\"Generated Answer: {answer_result_2[0]['generated_text'].strip()}\")"
   ]
  },
  {
   "cell_type": "markdown",
   "metadata": {
    "id": "Z-fIwDDFAug1"
   },
   "source": [
    "### **Optimal Generation Parameters**\n",
    "\n",
    "To get the best results from Ganda Gemma 1B, it's recommended to use the following generation parameters:\n",
    "\n",
    "*   **`temperature`: 0.3** - For focused and coherent responses.\n",
    "*   **`top_p`: 0.95** - Utilizes nucleus sampling.\n",
    "*   **`top_k`: 64** - Employs top-k sampling.\n",
    "*   **`max_length`: 128** - Sets a limit on the response length.\n",
    "*   **`repetition_penalty`: 1.1** - Helps in reducing word repetition.\n",
    "*   **`do_sample`: True** - Enables sampling for more dynamic responses.\n"
   ]
  },
  {
   "cell_type": "markdown",
   "metadata": {
    "id": "iqy3qB98Azyx"
   },
   "source": [
    "### **Important Limitations to Consider**\n",
    "\n",
    "While Ganda Gemma 1B is a powerful tool, it's important to be aware of its limitations:\n",
    "\n",
    "*   **Luganda-Only Output:** The model is designed to respond exclusively in Luganda.\n",
    "*   **General Knowledge Base:** It has not been trained on specific factual datasets, so its knowledge is general.\n",
    "*   **No Coding or Math:** The model is not designed for programming or mathematical tasks.\n",
    "*   **Context Length:** For optimal performance, the context length is limited to 4,096 tokens.\n",
    "*   **Domain-Specific Fine-Tuning:** For specialized domains, further fine-tuning may be required.\n"
   ]
  },
  {
   "cell_type": "markdown",
   "metadata": {
    "id": "nbxGVJSZA2vy"
   },
   "source": [
    "\n",
    "### **License Information**\n",
    "\n",
    "The Ganda Gemma 1B model is released under the Gemma Terms of Use. Please review the terms before using the model.\n",
    "\n",
    "We hope this notebook serves as an excellent starting point for your journey with Luganda AI. Happy coding"
   ]
  }
 ],
 "metadata": {
  "colab": {
   "provenance": []
  },
  "kernelspec": {
   "display_name": "Python 3",
   "name": "python3"
  },
  "language_info": {
   "name": "python"
  }
 },
 "nbformat": 4,
 "nbformat_minor": 0
}
